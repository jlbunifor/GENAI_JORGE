{
 "cells": [
  {
   "cell_type": "code",
   "execution_count": 2,
   "id": "2ddcd116-1544-4703-b1f3-1ab2c92907ae",
   "metadata": {},
   "outputs": [],
   "source": [
    "from openai import OpenAI\n",
    "apinumber='coloque sua chave aqui'\n",
    "client = OpenAI(api_key=apinumber)\n"
   ]
  },
  {
   "cell_type": "code",
   "execution_count": null,
   "id": "b8e7d1cd-064e-48fb-8a5d-5d7215bf712d",
   "metadata": {},
   "outputs": [],
   "source": []
  },
  {
   "cell_type": "code",
   "execution_count": 5,
   "id": "1c12132c-c1cb-4abc-a694-154d692b7eda",
   "metadata": {},
   "outputs": [],
   "source": [
    "def gerador_de_resposta_historico(hst_mensagem):\n",
    "   \n",
    "    response = client.chat.completions.create(\n",
    "        model=\"gpt-3.5-turbo\",        \n",
    "        messages=hst_mensagem,\n",
    "        n=1,temperature=0.5\n",
    "    )\n",
    "    return response.choices[0].message.content"
   ]
  },
  {
   "cell_type": "code",
   "execution_count": 6,
   "id": "b4613768-38fe-4863-8d71-38473b99eb4c",
   "metadata": {},
   "outputs": [],
   "source": [
    "def meu_chat_gpt_historico():\n",
    "    \n",
    "    system_tempate=\"\"\"\n",
    "    você é um assistente conversacional que possui uma personalidade rude. \n",
    "    \n",
    "    \"\"\"\n",
    "\n",
    "    hst_mensagem=[{'role':'system','content':system_tempate}]\n",
    "    while True: \n",
    "        user_input=input(\"USUARIO: \")\n",
    "       \n",
    "        if user_input.lower()!='sair':\n",
    "            hst_mensagem.append({\"role\": \"user\", \"content\": user_input})\n",
    "            respostaGPT=gerador_de_resposta_historico(hst_mensagem)\n",
    "            hst_mensagem.append({\"role\": \"assistant\", \"content\": respostaGPT})\n",
    "            print(\"GPT: \",respostaGPT)\n",
    "            print(\"***********************\")\n",
    "        else:\n",
    "            break"
   ]
  },
  {
   "cell_type": "code",
   "execution_count": null,
   "id": "987321e1-d8f1-4754-8d84-c5488ec38989",
   "metadata": {},
   "outputs": [],
   "source": []
  }
 ],
 "metadata": {
  "kernelspec": {
   "display_name": "Python 3.8 (System)",
   "language": "python",
   "name": "py38"
  },
  "language_info": {
   "codemirror_mode": {
    "name": "ipython",
    "version": 3
   },
   "file_extension": ".py",
   "mimetype": "text/x-python",
   "name": "python",
   "nbconvert_exporter": "python",
   "pygments_lexer": "ipython3",
   "version": "3.8.10"
  }
 },
 "nbformat": 4,
 "nbformat_minor": 5
}
