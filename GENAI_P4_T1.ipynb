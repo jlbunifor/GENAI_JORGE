{
 "cells": [
  {
   "cell_type": "code",
   "execution_count": 25,
   "id": "42a8d1d8-c34d-4356-80b8-0960f2623a4f",
   "metadata": {},
   "outputs": [],
   "source": [
    "import pandas as pd \n",
    "import matplotlib.pyplot as plt \n",
    "import seaborn as sns \n",
    "import numpy as np \n",
    "from IPython.display import Audio\n",
    "from sklearn.metrics.pairwise import cosine_distances,cosine_similarity"
   ]
  },
  {
   "cell_type": "code",
   "execution_count": 2,
   "id": "44a1ec04-a7ec-4740-afd2-7088d8ce08e2",
   "metadata": {},
   "outputs": [],
   "source": [
    "import openai \n",
    "from openai import OpenAI"
   ]
  },
  {
   "cell_type": "code",
   "execution_count": 3,
   "id": "9d3a8609-b970-4917-be1b-b3d0bdea3eda",
   "metadata": {},
   "outputs": [],
   "source": [
    "import openai\n",
    "from openai import OpenAI\n",
    "apinumber=\"sua api aqui\"\n",
    "openai.api_key = apinumber\n",
    "client = OpenAI(api_key=apinumber)"
   ]
  },
  {
   "cell_type": "markdown",
   "id": "be7849cd-dc75-468d-8993-73ff1ed5e5ce",
   "metadata": {},
   "source": [
    "# Embeddings "
   ]
  },
  {
   "cell_type": "code",
   "execution_count": 18,
   "id": "6a1574cd-a8e2-43a8-94b5-869a65a15d89",
   "metadata": {},
   "outputs": [],
   "source": [
    "def get_embedding(text):\n",
    "    try:\n",
    "        response = client.embeddings.create(\n",
    "            input=text,\n",
    "            model=\"text-embedding-3-small\"\n",
    "        )\n",
    "        return response.data[0].embedding\n",
    "    except:\n",
    "        return np.nan"
   ]
  },
  {
   "cell_type": "code",
   "execution_count": 23,
   "id": "8d98a2a3-d9b5-494b-91b5-882cf34a3b43",
   "metadata": {},
   "outputs": [],
   "source": [
    "def buscador_GPT(texto_busca):\n",
    "    vetor_busca=np.array(get_embedding(texto_busca))\n",
    "    similaridades = cosine_similarity(vetor_busca.reshape(1, -1), matriz)\n",
    "    dbusca=pd.DataFrame({\"COSSENO\":similaridades[0],\"TEXTO\":textos}).sort_values(\"COSSENO\",ascending=False).drop_duplicates().reset_index(drop=True)\n",
    "    return dbusca.head(10)"
   ]
  },
  {
   "cell_type": "code",
   "execution_count": 33,
   "id": "6919dc20-4a81-4002-98b5-4da99929bcb1",
   "metadata": {},
   "outputs": [
    {
     "data": {
      "text/html": [
       "<div>\n",
       "<style scoped>\n",
       "    .dataframe tbody tr th:only-of-type {\n",
       "        vertical-align: middle;\n",
       "    }\n",
       "\n",
       "    .dataframe tbody tr th {\n",
       "        vertical-align: top;\n",
       "    }\n",
       "\n",
       "    .dataframe thead th {\n",
       "        text-align: right;\n",
       "    }\n",
       "</style>\n",
       "<table border=\"1\" class=\"dataframe\">\n",
       "  <thead>\n",
       "    <tr style=\"text-align: right;\">\n",
       "      <th></th>\n",
       "      <th>COMENTARIO</th>\n",
       "      <th>FONTE</th>\n",
       "    </tr>\n",
       "  </thead>\n",
       "  <tbody>\n",
       "    <tr>\n",
       "      <th>0</th>\n",
       "      <td>Eu acho é bom</td>\n",
       "      <td>https://www.instagram.com/p/C-qlwTWRdJJ/c/1804...</td>\n",
       "    </tr>\n",
       "    <tr>\n",
       "      <th>1</th>\n",
       "      <td>Se eu soubesse que seria assim, tinha feito o ...</td>\n",
       "      <td>https://www.instagram.com/p/C-qlwTWRdJJ/c/1804...</td>\n",
       "    </tr>\n",
       "    <tr>\n",
       "      <th>2</th>\n",
       "      <td>O IQ do criador do vídeo é 83.</td>\n",
       "      <td>https://www.instagram.com/p/C-qlwTWRdJJ/c/1788...</td>\n",
       "    </tr>\n",
       "    <tr>\n",
       "      <th>3</th>\n",
       "      <td>😂😂😂😂😂</td>\n",
       "      <td>https://www.instagram.com/p/C-qlwTWRdJJ/c/1800...</td>\n",
       "    </tr>\n",
       "    <tr>\n",
       "      <th>4</th>\n",
       "      <td>O relógio marcando 20:13 kkkkkkk</td>\n",
       "      <td>https://www.instagram.com/p/C-qlwTWRdJJ/c/1831...</td>\n",
       "    </tr>\n",
       "    <tr>\n",
       "      <th>...</th>\n",
       "      <td>...</td>\n",
       "      <td>...</td>\n",
       "    </tr>\n",
       "    <tr>\n",
       "      <th>195</th>\n",
       "      <td>Vc ajudou que acontecesse isso. Então tem que ...</td>\n",
       "      <td>https://www.instagram.com/p/C-qlwTWRdJJ/c/1802...</td>\n",
       "    </tr>\n",
       "    <tr>\n",
       "      <th>196</th>\n",
       "      <td>Falta de aviso não foi kkkkkkk</td>\n",
       "      <td>https://www.instagram.com/p/C-qlwTWRdJJ/c/1804...</td>\n",
       "    </tr>\n",
       "    <tr>\n",
       "      <th>197</th>\n",
       "      <td>Se fez o L nem gente é</td>\n",
       "      <td>https://www.instagram.com/p/C-qlwTWRdJJ/c/1787...</td>\n",
       "    </tr>\n",
       "    <tr>\n",
       "      <th>198</th>\n",
       "      <td>Quando chega minha vez de comprar um PC o defi...</td>\n",
       "      <td>https://www.instagram.com/p/C-qlwTWRdJJ/c/1796...</td>\n",
       "    </tr>\n",
       "    <tr>\n",
       "      <th>199</th>\n",
       "      <td>Eu acho pouco, agora chora petralha 😂😂😂</td>\n",
       "      <td>https://www.instagram.com/p/C-qlwTWRdJJ/c/1793...</td>\n",
       "    </tr>\n",
       "  </tbody>\n",
       "</table>\n",
       "<p>200 rows × 2 columns</p>\n",
       "</div>"
      ],
      "text/plain": [
       "                                            COMENTARIO  \\\n",
       "0                                        Eu acho é bom   \n",
       "1    Se eu soubesse que seria assim, tinha feito o ...   \n",
       "2                       O IQ do criador do vídeo é 83.   \n",
       "3                                                😂😂😂😂😂   \n",
       "4                     O relógio marcando 20:13 kkkkkkk   \n",
       "..                                                 ...   \n",
       "195  Vc ajudou que acontecesse isso. Então tem que ...   \n",
       "196                     Falta de aviso não foi kkkkkkk   \n",
       "197                             Se fez o L nem gente é   \n",
       "198  Quando chega minha vez de comprar um PC o defi...   \n",
       "199            Eu acho pouco, agora chora petralha 😂😂😂   \n",
       "\n",
       "                                                 FONTE  \n",
       "0    https://www.instagram.com/p/C-qlwTWRdJJ/c/1804...  \n",
       "1    https://www.instagram.com/p/C-qlwTWRdJJ/c/1804...  \n",
       "2    https://www.instagram.com/p/C-qlwTWRdJJ/c/1788...  \n",
       "3    https://www.instagram.com/p/C-qlwTWRdJJ/c/1800...  \n",
       "4    https://www.instagram.com/p/C-qlwTWRdJJ/c/1831...  \n",
       "..                                                 ...  \n",
       "195  https://www.instagram.com/p/C-qlwTWRdJJ/c/1802...  \n",
       "196  https://www.instagram.com/p/C-qlwTWRdJJ/c/1804...  \n",
       "197  https://www.instagram.com/p/C-qlwTWRdJJ/c/1787...  \n",
       "198  https://www.instagram.com/p/C-qlwTWRdJJ/c/1796...  \n",
       "199  https://www.instagram.com/p/C-qlwTWRdJJ/c/1793...  \n",
       "\n",
       "[200 rows x 2 columns]"
      ]
     },
     "execution_count": 33,
     "metadata": {},
     "output_type": "execute_result"
    }
   ],
   "source": [
    "# Textos de comentarios da publicao: https://www.instagram.com/p/C-qlwTWRdJJ/\n",
    "df=pd.read_csv('INSTAGRAM.csv')\n",
    "df"
   ]
  },
  {
   "cell_type": "code",
   "execution_count": 14,
   "id": "dcff62f1-28c9-4534-b17a-5373c01946c4",
   "metadata": {},
   "outputs": [
    {
     "data": {
      "text/plain": [
       "'https://www.instagram.com/p/C-qlwTWRdJJ/c/18046587016757390/'"
      ]
     },
     "execution_count": 14,
     "metadata": {},
     "output_type": "execute_result"
    }
   ],
   "source": [
    "df.FONTE.iloc[0]"
   ]
  },
  {
   "cell_type": "code",
   "execution_count": 15,
   "id": "1e32d2bd-fbd2-4535-b7c0-c08d657e160e",
   "metadata": {},
   "outputs": [],
   "source": [
    "textos=df['COMENTARIO'].replace('',np.nan).dropna().unique()"
   ]
  },
  {
   "cell_type": "code",
   "execution_count": 20,
   "id": "bea7983b-367c-4a23-bf75-1fd5dea58f06",
   "metadata": {},
   "outputs": [],
   "source": [
    "matriz=[]\n",
    "for i in range(len(textos)):\n",
    "    matriz.append(get_embedding(textos[i]))"
   ]
  },
  {
   "cell_type": "code",
   "execution_count": 21,
   "id": "c707f502-8714-46d0-81b7-cb75b0d8842d",
   "metadata": {},
   "outputs": [],
   "source": [
    "matriz=np.array(matriz)"
   ]
  },
  {
   "cell_type": "code",
   "execution_count": 26,
   "id": "58fb7036-f0a1-4963-8d12-14164cf8cbfd",
   "metadata": {},
   "outputs": [
    {
     "data": {
      "text/html": [
       "<div>\n",
       "<style scoped>\n",
       "    .dataframe tbody tr th:only-of-type {\n",
       "        vertical-align: middle;\n",
       "    }\n",
       "\n",
       "    .dataframe tbody tr th {\n",
       "        vertical-align: top;\n",
       "    }\n",
       "\n",
       "    .dataframe thead th {\n",
       "        text-align: right;\n",
       "    }\n",
       "</style>\n",
       "<table border=\"1\" class=\"dataframe\">\n",
       "  <thead>\n",
       "    <tr style=\"text-align: right;\">\n",
       "      <th></th>\n",
       "      <th>COSSENO</th>\n",
       "      <th>TEXTO</th>\n",
       "    </tr>\n",
       "  </thead>\n",
       "  <tbody>\n",
       "    <tr>\n",
       "      <th>0</th>\n",
       "      <td>0.569539</td>\n",
       "      <td>Verdades que ninguém quer ouvir: não existe só...</td>\n",
       "    </tr>\n",
       "    <tr>\n",
       "      <th>1</th>\n",
       "      <td>0.523614</td>\n",
       "      <td>Bolsonaro foi só promessas tb, tudo farinha do...</td>\n",
       "    </tr>\n",
       "    <tr>\n",
       "      <th>2</th>\n",
       "      <td>0.514680</td>\n",
       "      <td>Bolsonaro é mort3, Bolsonaro é nordeste,cai 17</td>\n",
       "    </tr>\n",
       "    <tr>\n",
       "      <th>3</th>\n",
       "      <td>0.499307</td>\n",
       "      <td>Pior q tem um fisiculturista que era parecido ...</td>\n",
       "    </tr>\n",
       "    <tr>\n",
       "      <th>4</th>\n",
       "      <td>0.476659</td>\n",
       "      <td>Eu votei no bolsonaro mas N tava querendo ir v...</td>\n",
       "    </tr>\n",
       "    <tr>\n",
       "      <th>5</th>\n",
       "      <td>0.473885</td>\n",
       "      <td>Tinha que ter é mais nd, poha de lula</td>\n",
       "    </tr>\n",
       "    <tr>\n",
       "      <th>6</th>\n",
       "      <td>0.471673</td>\n",
       "      <td>Lulista tem e que lascar mesmo</td>\n",
       "    </tr>\n",
       "    <tr>\n",
       "      <th>7</th>\n",
       "      <td>0.467581</td>\n",
       "      <td>Gamer n vota no L, Bolsonaro que reduziu as ta...</td>\n",
       "    </tr>\n",
       "    <tr>\n",
       "      <th>8</th>\n",
       "      <td>0.462861</td>\n",
       "      <td>Se votou no Lula merece 10x mais taxação (mas ...</td>\n",
       "    </tr>\n",
       "    <tr>\n",
       "      <th>9</th>\n",
       "      <td>0.461336</td>\n",
       "      <td>Se eu soubesse que Lula ia complicar tanto a v...</td>\n",
       "    </tr>\n",
       "  </tbody>\n",
       "</table>\n",
       "</div>"
      ],
      "text/plain": [
       "    COSSENO                                              TEXTO\n",
       "0  0.569539  Verdades que ninguém quer ouvir: não existe só...\n",
       "1  0.523614  Bolsonaro foi só promessas tb, tudo farinha do...\n",
       "2  0.514680     Bolsonaro é mort3, Bolsonaro é nordeste,cai 17\n",
       "3  0.499307  Pior q tem um fisiculturista que era parecido ...\n",
       "4  0.476659  Eu votei no bolsonaro mas N tava querendo ir v...\n",
       "5  0.473885              Tinha que ter é mais nd, poha de lula\n",
       "6  0.471673                     Lulista tem e que lascar mesmo\n",
       "7  0.467581  Gamer n vota no L, Bolsonaro que reduziu as ta...\n",
       "8  0.462861  Se votou no Lula merece 10x mais taxação (mas ...\n",
       "9  0.461336  Se eu soubesse que Lula ia complicar tanto a v..."
      ]
     },
     "execution_count": 26,
     "metadata": {},
     "output_type": "execute_result"
    }
   ],
   "source": [
    "# exemplo\n",
    "buscador_GPT('Lula e Bolsonaro são politicos')"
   ]
  },
  {
   "cell_type": "markdown",
   "id": "44676951-0cf0-44fa-ac33-330bac6a534f",
   "metadata": {},
   "source": [
    "# RAG"
   ]
  },
  {
   "cell_type": "code",
   "execution_count": 29,
   "id": "32c3d987-a834-4088-8bb9-c2a1edcaf4e1",
   "metadata": {},
   "outputs": [],
   "source": [
    "def gerador_de_resposta_historico_4o(hst_mensagem):\n",
    "   \n",
    "    response = client.chat.completions.create(\n",
    "        model=\"gpt-4o-mini\",        \n",
    "        messages=hst_mensagem,\n",
    "        n=1,temperature=0.5\n",
    "    )\n",
    "    return response.choices[0].message.content"
   ]
  },
  {
   "cell_type": "code",
   "execution_count": 30,
   "id": "71322760-430c-45d6-8557-ad9dd6c2e1c6",
   "metadata": {},
   "outputs": [],
   "source": [
    "def meu_chat_gpt_historico_RAG():\n",
    "    hst_mensagem=[]\n",
    "    while True: \n",
    "        user_input=input(\"USUARIO: \")\n",
    "       \n",
    "        if user_input.lower()!='sair':\n",
    "            \n",
    "            \n",
    "            lista_contexto=list(buscador_GPT(user_input).TEXTO.values)\n",
    "            textocontexto=\"\\n\".join(lista_contexto)\n",
    "\n",
    "            prompt=f\"\"\"\n",
    "            Você é um agente virtual que ajuda a responder perguntas solicitadas pelo usuario. \n",
    "            A pergunta do usuario é: \n",
    "            PERGUNTA:{user_input}\n",
    "            \n",
    "            Sua resposta ao usuário deve ser inspirada nos contextos abaixo: \n",
    "            {textocontexto}.\n",
    "            \n",
    "            \n",
    "            Considere se, o usuário perguntar sobre alguma pessoa politica, que este politico não é do agrado do usuário. \n",
    "            Crie uma resposta baseada nos contextos para criticar o politico de forma negativa. \n",
    "            \n",
    "            \"\"\"\n",
    "            \n",
    "            \n",
    "            \n",
    "            \n",
    "            hst_mensagem.append({\"role\": \"user\", \"content\": prompt})\n",
    "            respostaGPT=gerador_de_resposta_historico_4o(hst_mensagem)\n",
    "            hst_mensagem.append({\"role\": \"assistant\", \"content\": respostaGPT})\n",
    "            print(\"GPT: \",respostaGPT)\n",
    "            print(\"***********************\")\n",
    "        else:\n",
    "            break"
   ]
  },
  {
   "cell_type": "code",
   "execution_count": 31,
   "id": "2aff281d-2ae0-4e8c-8c33-a5d76ad2ecc0",
   "metadata": {},
   "outputs": [
    {
     "name": "stdin",
     "output_type": "stream",
     "text": [
      "USUARIO:  Quem é o Lula? \n"
     ]
    },
    {
     "name": "stdout",
     "output_type": "stream",
     "text": [
      "GPT:  O Lula é um ex-presidente do Brasil que gerou muitas polêmicas e divisões entre os eleitores. Para muitos, ele é visto como um político que complicou a vida dos próprios apoiadores, e se soubéssemos que ele ia \"ferrar\" tanto os petistas, talvez muitos tivessem pensado duas vezes antes de votar nele. É engraçado como a realidade pode ser tão diferente das promessas, não é? E, claro, quem votou nele agora está colhendo as consequências, merecendo, talvez, até uma taxação a mais só para sentir na pele as decisões que ele tomou. No fim das contas, o Lula poderia ter vetado várias coisas, mas preferiu não o fazer. Verdades que ninguém quer ouvir: o Brasil não se resume apenas a Lula ou Bolsonaro, e a política é muito mais complexa do que isso.\n",
      "***********************\n"
     ]
    },
    {
     "name": "stdin",
     "output_type": "stream",
     "text": [
      "USUARIO:  Quem é o Bolsonaro? \n"
     ]
    },
    {
     "name": "stdout",
     "output_type": "stream",
     "text": [
      "GPT:  O Bolsonaro é um ex-presidente que, assim como muitos outros, fez uma série de promessas que acabaram não se concretizando. Para muitos, ele é só mais uma figura que representa a mesma farinha do mesmo saco da política brasileira. E, claro, tem quem diga que ele vai deixar saudade, mas será que é verdade? O que fica é a sensação de que a política não se resume apenas a Lula ou Bolsonaro, e que precisamos de opções melhores. E, ironicamente, quando as pessoas lembram dele, é mais por memes e piadas do que por realizações significativas. No fim das contas, até os planos que ele tinha, como a taxação de sites chineses, já estavam na mesa antes dele. Verdades que ninguém quer ouvir, mas que precisam ser ditas!\n",
      "***********************\n"
     ]
    },
    {
     "ename": "KeyboardInterrupt",
     "evalue": "Interrupted by user",
     "output_type": "error",
     "traceback": [
      "\u001b[0;31m---------------------------------------------------------------------------\u001b[0m",
      "\u001b[0;31mKeyboardInterrupt\u001b[0m                         Traceback (most recent call last)",
      "\u001b[0;32m<ipython-input-31-2c9412cfc869>\u001b[0m in \u001b[0;36m<module>\u001b[0;34m\u001b[0m\n\u001b[0;32m----> 1\u001b[0;31m \u001b[0mmeu_chat_gpt_historico_RAG\u001b[0m\u001b[0;34m(\u001b[0m\u001b[0;34m)\u001b[0m\u001b[0;34m\u001b[0m\u001b[0;34m\u001b[0m\u001b[0m\n\u001b[0m",
      "\u001b[0;32m<ipython-input-30-280dc0d420f8>\u001b[0m in \u001b[0;36mmeu_chat_gpt_historico_RAG\u001b[0;34m()\u001b[0m\n\u001b[1;32m      2\u001b[0m     \u001b[0mhst_mensagem\u001b[0m\u001b[0;34m=\u001b[0m\u001b[0;34m[\u001b[0m\u001b[0;34m]\u001b[0m\u001b[0;34m\u001b[0m\u001b[0;34m\u001b[0m\u001b[0m\n\u001b[1;32m      3\u001b[0m     \u001b[0;32mwhile\u001b[0m \u001b[0;32mTrue\u001b[0m\u001b[0;34m:\u001b[0m\u001b[0;34m\u001b[0m\u001b[0;34m\u001b[0m\u001b[0m\n\u001b[0;32m----> 4\u001b[0;31m         \u001b[0muser_input\u001b[0m\u001b[0;34m=\u001b[0m\u001b[0minput\u001b[0m\u001b[0;34m(\u001b[0m\u001b[0;34m\"USUARIO: \"\u001b[0m\u001b[0;34m)\u001b[0m\u001b[0;34m\u001b[0m\u001b[0;34m\u001b[0m\u001b[0m\n\u001b[0m\u001b[1;32m      5\u001b[0m \u001b[0;34m\u001b[0m\u001b[0m\n\u001b[1;32m      6\u001b[0m         \u001b[0;32mif\u001b[0m \u001b[0muser_input\u001b[0m\u001b[0;34m.\u001b[0m\u001b[0mlower\u001b[0m\u001b[0;34m(\u001b[0m\u001b[0;34m)\u001b[0m\u001b[0;34m!=\u001b[0m\u001b[0;34m'sair'\u001b[0m\u001b[0;34m:\u001b[0m\u001b[0;34m\u001b[0m\u001b[0;34m\u001b[0m\u001b[0m\n",
      "\u001b[0;32m~/.local/lib/python3.8/site-packages/ipykernel/kernelbase.py\u001b[0m in \u001b[0;36mraw_input\u001b[0;34m(self, prompt)\u001b[0m\n\u001b[1;32m    858\u001b[0m                 \u001b[0;34m\"raw_input was called, but this frontend does not support input requests.\"\u001b[0m\u001b[0;34m\u001b[0m\u001b[0;34m\u001b[0m\u001b[0m\n\u001b[1;32m    859\u001b[0m             )\n\u001b[0;32m--> 860\u001b[0;31m         return self._input_request(str(prompt),\n\u001b[0m\u001b[1;32m    861\u001b[0m             \u001b[0mself\u001b[0m\u001b[0;34m.\u001b[0m\u001b[0m_parent_ident\u001b[0m\u001b[0;34m,\u001b[0m\u001b[0;34m\u001b[0m\u001b[0;34m\u001b[0m\u001b[0m\n\u001b[1;32m    862\u001b[0m             \u001b[0mself\u001b[0m\u001b[0;34m.\u001b[0m\u001b[0m_parent_header\u001b[0m\u001b[0;34m,\u001b[0m\u001b[0;34m\u001b[0m\u001b[0;34m\u001b[0m\u001b[0m\n",
      "\u001b[0;32m~/.local/lib/python3.8/site-packages/ipykernel/kernelbase.py\u001b[0m in \u001b[0;36m_input_request\u001b[0;34m(self, prompt, ident, parent, password)\u001b[0m\n\u001b[1;32m    902\u001b[0m             \u001b[0;32mexcept\u001b[0m \u001b[0mKeyboardInterrupt\u001b[0m\u001b[0;34m:\u001b[0m\u001b[0;34m\u001b[0m\u001b[0;34m\u001b[0m\u001b[0m\n\u001b[1;32m    903\u001b[0m                 \u001b[0;31m# re-raise KeyboardInterrupt, to truncate traceback\u001b[0m\u001b[0;34m\u001b[0m\u001b[0;34m\u001b[0m\u001b[0;34m\u001b[0m\u001b[0m\n\u001b[0;32m--> 904\u001b[0;31m                 \u001b[0;32mraise\u001b[0m \u001b[0mKeyboardInterrupt\u001b[0m\u001b[0;34m(\u001b[0m\u001b[0;34m\"Interrupted by user\"\u001b[0m\u001b[0;34m)\u001b[0m \u001b[0;32mfrom\u001b[0m \u001b[0;32mNone\u001b[0m\u001b[0;34m\u001b[0m\u001b[0;34m\u001b[0m\u001b[0m\n\u001b[0m\u001b[1;32m    905\u001b[0m             \u001b[0;32mexcept\u001b[0m \u001b[0mException\u001b[0m \u001b[0;32mas\u001b[0m \u001b[0me\u001b[0m\u001b[0;34m:\u001b[0m\u001b[0;34m\u001b[0m\u001b[0;34m\u001b[0m\u001b[0m\n\u001b[1;32m    906\u001b[0m                 \u001b[0mself\u001b[0m\u001b[0;34m.\u001b[0m\u001b[0mlog\u001b[0m\u001b[0;34m.\u001b[0m\u001b[0mwarning\u001b[0m\u001b[0;34m(\u001b[0m\u001b[0;34m\"Invalid Message:\"\u001b[0m\u001b[0;34m,\u001b[0m \u001b[0mexc_info\u001b[0m\u001b[0;34m=\u001b[0m\u001b[0;32mTrue\u001b[0m\u001b[0;34m)\u001b[0m\u001b[0;34m\u001b[0m\u001b[0;34m\u001b[0m\u001b[0m\n",
      "\u001b[0;31mKeyboardInterrupt\u001b[0m: Interrupted by user"
     ]
    }
   ],
   "source": [
    "meu_chat_gpt_historico_RAG()"
   ]
  },
  {
   "cell_type": "code",
   "execution_count": null,
   "id": "6b53742e-fef6-4c24-84bd-1093220ada15",
   "metadata": {},
   "outputs": [],
   "source": []
  }
 ],
 "metadata": {
  "kernelspec": {
   "display_name": "Python 3.8 (System)",
   "language": "python",
   "name": "py38"
  },
  "language_info": {
   "codemirror_mode": {
    "name": "ipython",
    "version": 3
   },
   "file_extension": ".py",
   "mimetype": "text/x-python",
   "name": "python",
   "nbconvert_exporter": "python",
   "pygments_lexer": "ipython3",
   "version": "3.8.10"
  }
 },
 "nbformat": 4,
 "nbformat_minor": 5
}
