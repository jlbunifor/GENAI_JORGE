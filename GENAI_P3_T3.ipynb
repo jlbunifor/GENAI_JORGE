{
 "cells": [
  {
   "cell_type": "code",
   "execution_count": 1,
   "id": "37e11ff9",
   "metadata": {},
   "outputs": [],
   "source": [
    "import pandas as pd \n",
    "import matplotlib.pyplot as plt \n",
    "import seaborn as sns \n",
    "import numpy as np \n",
    "import string \n",
    "import spacy \n",
    "from spacy.lang.pt.stop_words import STOP_WORDS\n",
    "from sklearn.metrics import accuracy_score, confusion_matrix, f1_score, roc_auc_score\n",
    "from sklearn.linear_model import LogisticRegression\n",
    "from tqdm import tqdm \n",
    "from sklearn.metrics.pairwise import cosine_distances,cosine_similarity"
   ]
  },
  {
   "cell_type": "code",
   "execution_count": 2,
   "id": "2b39005d",
   "metadata": {},
   "outputs": [],
   "source": [
    "import openai \n",
    "from openai import OpenAI"
   ]
  },
  {
   "cell_type": "code",
   "execution_count": 3,
   "id": "ae3d0784",
   "metadata": {},
   "outputs": [],
   "source": [
    "import openai\n",
    "from openai import OpenAI\n",
    "apinumber='sua chave aqui'\n",
    "openai.api_key = apinumber\n",
    "client = OpenAI(api_key=apinumber)"
   ]
  },
  {
   "cell_type": "code",
   "execution_count": 4,
   "id": "1d6f641d",
   "metadata": {},
   "outputs": [],
   "source": [
    "models = client.models.list()"
   ]
  },
  {
   "cell_type": "code",
   "execution_count": 5,
   "id": "25517100",
   "metadata": {},
   "outputs": [
    {
     "name": "stdout",
     "output_type": "stream",
     "text": [
      "gpt-4-0613\n",
      "gpt-4\n",
      "gpt-3.5-turbo\n",
      "gpt-4-0314\n",
      "o3-pro-2025-06-10\n",
      "codex-mini-latest\n",
      "o3-pro\n",
      "gpt-4o-realtime-preview-2025-06-03\n",
      "gpt-4o-audio-preview-2025-06-03\n",
      "davinci-002\n",
      "babbage-002\n",
      "gpt-3.5-turbo-instruct\n",
      "gpt-3.5-turbo-instruct-0914\n",
      "dall-e-3\n",
      "dall-e-2\n",
      "gpt-4-1106-preview\n",
      "gpt-3.5-turbo-1106\n",
      "tts-1-hd\n",
      "tts-1-1106\n",
      "tts-1-hd-1106\n",
      "text-embedding-3-small\n",
      "text-embedding-3-large\n",
      "gpt-4-0125-preview\n",
      "gpt-4-turbo-preview\n",
      "gpt-3.5-turbo-0125\n",
      "gpt-4-turbo\n",
      "gpt-4-turbo-2024-04-09\n",
      "gpt-4o\n",
      "gpt-4o-2024-05-13\n",
      "gpt-4o-mini-2024-07-18\n",
      "gpt-4o-mini\n",
      "gpt-4o-2024-08-06\n",
      "chatgpt-4o-latest\n",
      "o1-preview-2024-09-12\n",
      "o1-preview\n",
      "o1-mini-2024-09-12\n",
      "o1-mini\n",
      "gpt-4o-realtime-preview-2024-10-01\n",
      "gpt-4o-audio-preview-2024-10-01\n",
      "gpt-4o-audio-preview\n",
      "gpt-4o-realtime-preview\n",
      "omni-moderation-latest\n",
      "omni-moderation-2024-09-26\n",
      "gpt-4o-realtime-preview-2024-12-17\n",
      "gpt-4o-audio-preview-2024-12-17\n",
      "gpt-4o-mini-realtime-preview-2024-12-17\n",
      "gpt-4o-mini-audio-preview-2024-12-17\n",
      "o1-2024-12-17\n",
      "o1\n",
      "gpt-4o-mini-realtime-preview\n",
      "gpt-4o-mini-audio-preview\n",
      "computer-use-preview\n",
      "o3-mini\n",
      "o3-mini-2025-01-31\n",
      "gpt-4o-2024-11-20\n",
      "gpt-4.5-preview\n",
      "gpt-4.5-preview-2025-02-27\n",
      "computer-use-preview-2025-03-11\n",
      "gpt-4o-search-preview-2025-03-11\n",
      "gpt-4o-search-preview\n",
      "gpt-4o-mini-search-preview-2025-03-11\n",
      "gpt-4o-mini-search-preview\n",
      "gpt-4o-transcribe\n",
      "gpt-4o-mini-transcribe\n",
      "o1-pro-2025-03-19\n",
      "o1-pro\n",
      "gpt-4o-mini-tts\n",
      "o3-2025-04-16\n",
      "o4-mini-2025-04-16\n",
      "o3\n",
      "o4-mini\n",
      "gpt-4.1-2025-04-14\n",
      "gpt-4.1\n",
      "gpt-4.1-mini-2025-04-14\n",
      "gpt-4.1-mini\n",
      "gpt-4.1-nano-2025-04-14\n",
      "gpt-4.1-nano\n",
      "gpt-image-1\n",
      "gpt-3.5-turbo-16k\n",
      "tts-1\n",
      "whisper-1\n",
      "text-embedding-ada-002\n",
      "davinci:ft-personal:superhero-2023-04-19-02-04-04\n",
      "davinci:ft-personal:fazol-2023-04-19-02-37-31\n",
      "davinci:ft-personal:fazol-2023-04-19-02-41-14\n",
      "ft:gpt-3.5-turbo-0125:jorge-luiz-bezerra-de-ara-jo::9Kub7QLk:ckpt-step-100\n",
      "ft:gpt-3.5-turbo-0125:jorge-luiz-bezerra-de-ara-jo::9Kub8Nr9:ckpt-step-200\n",
      "ft:gpt-3.5-turbo-0125:jorge-luiz-bezerra-de-ara-jo::9Kub83SN\n"
     ]
    }
   ],
   "source": [
    "for i in range(len(models.data)):\n",
    "    print(models.data[i].id)"
   ]
  },
  {
   "cell_type": "code",
   "execution_count": 6,
   "id": "8cdbfcee",
   "metadata": {},
   "outputs": [
    {
     "data": {
      "text/html": [
       "<div>\n",
       "<style scoped>\n",
       "    .dataframe tbody tr th:only-of-type {\n",
       "        vertical-align: middle;\n",
       "    }\n",
       "\n",
       "    .dataframe tbody tr th {\n",
       "        vertical-align: top;\n",
       "    }\n",
       "\n",
       "    .dataframe thead th {\n",
       "        text-align: right;\n",
       "    }\n",
       "</style>\n",
       "<table border=\"1\" class=\"dataframe\">\n",
       "  <thead>\n",
       "    <tr style=\"text-align: right;\">\n",
       "      <th></th>\n",
       "      <th>id</th>\n",
       "      <th>text</th>\n",
       "      <th>label</th>\n",
       "    </tr>\n",
       "  </thead>\n",
       "  <tbody>\n",
       "    <tr>\n",
       "      <th>0</th>\n",
       "      <td>219</td>\n",
       "      <td>Enjoy 0% instalment for up to 12 months when o...</td>\n",
       "      <td>neutral</td>\n",
       "    </tr>\n",
       "    <tr>\n",
       "      <th>1</th>\n",
       "      <td>209</td>\n",
       "      <td>The cakes give me massive nostalgia. Everythin...</td>\n",
       "      <td>positive</td>\n",
       "    </tr>\n",
       "    <tr>\n",
       "      <th>2</th>\n",
       "      <td>436</td>\n",
       "      <td>Mom once worked for grab indonesia.</td>\n",
       "      <td>neutral</td>\n",
       "    </tr>\n",
       "    <tr>\n",
       "      <th>3</th>\n",
       "      <td>394</td>\n",
       "      <td>I love having lunch here the most, thanks to t...</td>\n",
       "      <td>positive</td>\n",
       "    </tr>\n",
       "    <tr>\n",
       "      <th>4</th>\n",
       "      <td>592</td>\n",
       "      <td>The DAMRI Bus service is really good</td>\n",
       "      <td>positive</td>\n",
       "    </tr>\n",
       "    <tr>\n",
       "      <th>...</th>\n",
       "      <td>...</td>\n",
       "      <td>...</td>\n",
       "      <td>...</td>\n",
       "    </tr>\n",
       "    <tr>\n",
       "      <th>495</th>\n",
       "      <td>589</td>\n",
       "      <td>A talks like empty vessels that make the most ...</td>\n",
       "      <td>negative</td>\n",
       "    </tr>\n",
       "    <tr>\n",
       "      <th>496</th>\n",
       "      <td>636</td>\n",
       "      <td>You won't find this sambal anywhere else. The ...</td>\n",
       "      <td>positive</td>\n",
       "    </tr>\n",
       "    <tr>\n",
       "      <th>497</th>\n",
       "      <td>710</td>\n",
       "      <td>I think the steak was quite good, my advice is...</td>\n",
       "      <td>positive</td>\n",
       "    </tr>\n",
       "    <tr>\n",
       "      <th>498</th>\n",
       "      <td>250</td>\n",
       "      <td>Watch what you eat, Gus, it's that kind of sea...</td>\n",
       "      <td>negative</td>\n",
       "    </tr>\n",
       "    <tr>\n",
       "      <th>499</th>\n",
       "      <td>719</td>\n",
       "      <td>I'm about to pop a blood vessel dealing with t...</td>\n",
       "      <td>negative</td>\n",
       "    </tr>\n",
       "  </tbody>\n",
       "</table>\n",
       "<p>500 rows × 3 columns</p>\n",
       "</div>"
      ],
      "text/plain": [
       "      id                                               text     label\n",
       "0    219  Enjoy 0% instalment for up to 12 months when o...   neutral\n",
       "1    209  The cakes give me massive nostalgia. Everythin...  positive\n",
       "2    436                Mom once worked for grab indonesia.   neutral\n",
       "3    394  I love having lunch here the most, thanks to t...  positive\n",
       "4    592               The DAMRI Bus service is really good  positive\n",
       "..   ...                                                ...       ...\n",
       "495  589  A talks like empty vessels that make the most ...  negative\n",
       "496  636  You won't find this sambal anywhere else. The ...  positive\n",
       "497  710  I think the steak was quite good, my advice is...  positive\n",
       "498  250  Watch what you eat, Gus, it's that kind of sea...  negative\n",
       "499  719  I'm about to pop a blood vessel dealing with t...  negative\n",
       "\n",
       "[500 rows x 3 columns]"
      ]
     },
     "execution_count": 6,
     "metadata": {},
     "output_type": "execute_result"
    }
   ],
   "source": [
    "sentimento=pd.read_csv('sentimento_ingles.csv')\n",
    "sentimento"
   ]
  },
  {
   "cell_type": "code",
   "execution_count": 7,
   "id": "f2a99b05",
   "metadata": {},
   "outputs": [
    {
     "name": "stdout",
     "output_type": "stream",
     "text": [
      "<class 'pandas.core.frame.DataFrame'>\n",
      "RangeIndex: 500 entries, 0 to 499\n",
      "Data columns (total 3 columns):\n",
      " #   Column  Non-Null Count  Dtype \n",
      "---  ------  --------------  ----- \n",
      " 0   id      500 non-null    int64 \n",
      " 1   text    500 non-null    object\n",
      " 2   label   500 non-null    object\n",
      "dtypes: int64(1), object(2)\n",
      "memory usage: 11.8+ KB\n"
     ]
    }
   ],
   "source": [
    "sentimento.info()"
   ]
  },
  {
   "cell_type": "code",
   "execution_count": 8,
   "id": "9e873cd0",
   "metadata": {},
   "outputs": [
    {
     "data": {
      "text/plain": [
       "'Enjoy 0% instalment for up to 12 months when ordering an Air Asia plane ticket with BNI Credit Card!'"
      ]
     },
     "execution_count": 8,
     "metadata": {},
     "output_type": "execute_result"
    }
   ],
   "source": [
    "sentimento.text.iloc[0]"
   ]
  },
  {
   "cell_type": "code",
   "execution_count": 9,
   "id": "be64b2d2",
   "metadata": {},
   "outputs": [
    {
     "data": {
      "text/plain": [
       "\"The cakes give me massive nostalgia. Everything is old school. from the presentation to the taste. They're great and inexpensive\""
      ]
     },
     "execution_count": 9,
     "metadata": {},
     "output_type": "execute_result"
    }
   ],
   "source": [
    "sentimento.text.iloc[1]"
   ]
  },
  {
   "cell_type": "code",
   "execution_count": 10,
   "id": "981d85fc",
   "metadata": {},
   "outputs": [
    {
     "data": {
      "text/plain": [
       "'neutral'"
      ]
     },
     "execution_count": 10,
     "metadata": {},
     "output_type": "execute_result"
    }
   ],
   "source": [
    "sentimento.label.iloc[0]"
   ]
  },
  {
   "cell_type": "code",
   "execution_count": 11,
   "id": "6a1fdfef",
   "metadata": {},
   "outputs": [
    {
     "data": {
      "text/plain": [
       "'positive'"
      ]
     },
     "execution_count": 11,
     "metadata": {},
     "output_type": "execute_result"
    }
   ],
   "source": [
    "sentimento.label.iloc[1]"
   ]
  },
  {
   "cell_type": "code",
   "execution_count": 12,
   "id": "f4d72852",
   "metadata": {},
   "outputs": [
    {
     "data": {
      "text/plain": [
       "negative    192\n",
       "positive    189\n",
       "neutral     119\n",
       "Name: label, dtype: int64"
      ]
     },
     "execution_count": 12,
     "metadata": {},
     "output_type": "execute_result"
    }
   ],
   "source": [
    "sentimento['label'].value_counts()"
   ]
  },
  {
   "cell_type": "code",
   "execution_count": 13,
   "id": "b1f3a5fc",
   "metadata": {},
   "outputs": [],
   "source": [
    "sent_treinamento=sentimento[0:400].reset_index(drop=True)\n",
    "sent_validacao=sentimento[400:].reset_index(drop=True)"
   ]
  },
  {
   "cell_type": "code",
   "execution_count": 14,
   "id": "51d95e8a",
   "metadata": {},
   "outputs": [],
   "source": [
    "def gerador_de_resposta_3p5(texto):\n",
    "    \n",
    "    texto_promt=f\"\"\"Eu quero que você classifique o texto abaixo como \"POSITIVO\", \"NEGATIVO\" ou \"NEUTRO\". \n",
    "    Apenas responda os textos com \"POSITIVO\", \"NEGATIVO\" ou \"NEUTRO\". \n",
    "\n",
    "    O texto que quero que você avalie é: \n",
    "\n",
    "    \"{texto}\"\n",
    "\n",
    "    Eu quero respostas diretas. Não há necessidade de explicações. Apenas o valor da classificação.\"\"\"\n",
    "    \n",
    "   \n",
    "    response = client.chat.completions.create(\n",
    "        model=\"gpt-3.5-turbo\",        \n",
    "        messages=[\n",
    "            {\"role\": \"user\", \"content\": texto_promt}],\n",
    "        n=1,temperature=0.0\n",
    "    )\n",
    "    return response.choices[0].message.content"
   ]
  },
  {
   "cell_type": "code",
   "execution_count": 15,
   "id": "18a4d333",
   "metadata": {},
   "outputs": [],
   "source": [
    "def gerador_de_resposta_4o(texto):\n",
    "    \n",
    "    texto_promt=f\"\"\"Eu quero que você classifique o texto abaixo como \"POSITIVO\", \"NEGATIVO\" ou \"NEUTRO\". \n",
    "    Apenas responda os textos com \"POSITIVO\", \"NEGATIVO\" ou \"NEUTRO\". \n",
    "\n",
    "    O texto que quero que você avalie é: \n",
    "\n",
    "    \"{texto}\"\n",
    "\n",
    "    Eu quero respostas diretas. Não há necessidade de explicações. Apenas o valor da classificação.\"\"\"\n",
    "    \n",
    "   \n",
    "    response = client.chat.completions.create(\n",
    "        model=\"gpt-4o\",        \n",
    "        messages=[\n",
    "            {\"role\": \"user\", \"content\": texto_promt}],\n",
    "        n=1,temperature=0.0\n",
    "    )\n",
    "    return response.choices[0].message.content"
   ]
  },
  {
   "cell_type": "code",
   "execution_count": 16,
   "id": "8da83b2b",
   "metadata": {},
   "outputs": [
    {
     "data": {
      "text/plain": [
       "'POSITIVO'"
      ]
     },
     "execution_count": 16,
     "metadata": {},
     "output_type": "execute_result"
    }
   ],
   "source": [
    "gerador_de_resposta_3p5(\"Eu amo o Lula\")"
   ]
  },
  {
   "cell_type": "code",
   "execution_count": 17,
   "id": "fc96955a",
   "metadata": {},
   "outputs": [
    {
     "data": {
      "text/plain": [
       "'NEGATIVO'"
      ]
     },
     "execution_count": 17,
     "metadata": {},
     "output_type": "execute_result"
    }
   ],
   "source": [
    "gerador_de_resposta_3p5(\"Eu odeio o Lula\")"
   ]
  },
  {
   "cell_type": "code",
   "execution_count": 18,
   "id": "b37a9a79",
   "metadata": {},
   "outputs": [
    {
     "name": "stderr",
     "output_type": "stream",
     "text": [
      "100%|██████████| 100/100 [02:38<00:00,  1.59s/it]\n"
     ]
    }
   ],
   "source": [
    "respostagpt3p5=[]\n",
    "respostagpt4o=[]\n",
    "for i in tqdm(range(len(sent_validacao))):\n",
    "    texto=sent_validacao.text.iloc[i]\n",
    "    \n",
    "    respostagpt3p5.append(gerador_de_resposta_3p5(texto))\n",
    "    respostagpt4o.append(gerador_de_resposta_4o(texto))"
   ]
  },
  {
   "cell_type": "code",
   "execution_count": 19,
   "id": "93ced408",
   "metadata": {},
   "outputs": [
    {
     "data": {
      "text/html": [
       "<div>\n",
       "<style scoped>\n",
       "    .dataframe tbody tr th:only-of-type {\n",
       "        vertical-align: middle;\n",
       "    }\n",
       "\n",
       "    .dataframe tbody tr th {\n",
       "        vertical-align: top;\n",
       "    }\n",
       "\n",
       "    .dataframe thead th {\n",
       "        text-align: right;\n",
       "    }\n",
       "</style>\n",
       "<table border=\"1\" class=\"dataframe\">\n",
       "  <thead>\n",
       "    <tr style=\"text-align: right;\">\n",
       "      <th></th>\n",
       "      <th>REAL</th>\n",
       "      <th>GPT_3p5</th>\n",
       "      <th>GPT_4o</th>\n",
       "    </tr>\n",
       "  </thead>\n",
       "  <tbody>\n",
       "    <tr>\n",
       "      <th>0</th>\n",
       "      <td>positive</td>\n",
       "      <td>POSITIVO</td>\n",
       "      <td>POSITIVO</td>\n",
       "    </tr>\n",
       "    <tr>\n",
       "      <th>1</th>\n",
       "      <td>negative</td>\n",
       "      <td>NEGATIVO</td>\n",
       "      <td>NEGATIVO</td>\n",
       "    </tr>\n",
       "    <tr>\n",
       "      <th>2</th>\n",
       "      <td>neutral</td>\n",
       "      <td>POSITIVO</td>\n",
       "      <td>NEUTRO</td>\n",
       "    </tr>\n",
       "    <tr>\n",
       "      <th>3</th>\n",
       "      <td>negative</td>\n",
       "      <td>NEUTRO</td>\n",
       "      <td>NEUTRO</td>\n",
       "    </tr>\n",
       "    <tr>\n",
       "      <th>4</th>\n",
       "      <td>negative</td>\n",
       "      <td>NEGATIVO</td>\n",
       "      <td>NEGATIVO</td>\n",
       "    </tr>\n",
       "    <tr>\n",
       "      <th>...</th>\n",
       "      <td>...</td>\n",
       "      <td>...</td>\n",
       "      <td>...</td>\n",
       "    </tr>\n",
       "    <tr>\n",
       "      <th>95</th>\n",
       "      <td>negative</td>\n",
       "      <td>NEGATIVO</td>\n",
       "      <td>NEGATIVO</td>\n",
       "    </tr>\n",
       "    <tr>\n",
       "      <th>96</th>\n",
       "      <td>positive</td>\n",
       "      <td>POSITIVO</td>\n",
       "      <td>POSITIVO</td>\n",
       "    </tr>\n",
       "    <tr>\n",
       "      <th>97</th>\n",
       "      <td>positive</td>\n",
       "      <td>POSITIVO</td>\n",
       "      <td>POSITIVO</td>\n",
       "    </tr>\n",
       "    <tr>\n",
       "      <th>98</th>\n",
       "      <td>negative</td>\n",
       "      <td>NEUTRO</td>\n",
       "      <td>NEGATIVO</td>\n",
       "    </tr>\n",
       "    <tr>\n",
       "      <th>99</th>\n",
       "      <td>negative</td>\n",
       "      <td>NEGATIVO</td>\n",
       "      <td>NEGATIVO</td>\n",
       "    </tr>\n",
       "  </tbody>\n",
       "</table>\n",
       "<p>100 rows × 3 columns</p>\n",
       "</div>"
      ],
      "text/plain": [
       "        REAL   GPT_3p5    GPT_4o\n",
       "0   positive  POSITIVO  POSITIVO\n",
       "1   negative  NEGATIVO  NEGATIVO\n",
       "2    neutral  POSITIVO    NEUTRO\n",
       "3   negative    NEUTRO    NEUTRO\n",
       "4   negative  NEGATIVO  NEGATIVO\n",
       "..       ...       ...       ...\n",
       "95  negative  NEGATIVO  NEGATIVO\n",
       "96  positive  POSITIVO  POSITIVO\n",
       "97  positive  POSITIVO  POSITIVO\n",
       "98  negative    NEUTRO  NEGATIVO\n",
       "99  negative  NEGATIVO  NEGATIVO\n",
       "\n",
       "[100 rows x 3 columns]"
      ]
     },
     "execution_count": 19,
     "metadata": {},
     "output_type": "execute_result"
    }
   ],
   "source": [
    "GPT=pd.DataFrame({\"REAL\":sent_validacao.label.values,\n",
    "                 \"GPT_3p5\":respostagpt3p5,\n",
    "                 \"GPT_4o\":respostagpt4o})\n",
    "GPT"
   ]
  },
  {
   "cell_type": "code",
   "execution_count": 20,
   "id": "0155b1bb",
   "metadata": {},
   "outputs": [
    {
     "data": {
      "text/plain": [
       "POSITIVO    44\n",
       "NEGATIVO    44\n",
       "NEUTRO      12\n",
       "Name: GPT_3p5, dtype: int64"
      ]
     },
     "execution_count": 20,
     "metadata": {},
     "output_type": "execute_result"
    }
   ],
   "source": [
    "GPT.GPT_3p5.value_counts()"
   ]
  },
  {
   "cell_type": "code",
   "execution_count": 21,
   "id": "8badfd0a",
   "metadata": {},
   "outputs": [
    {
     "data": {
      "text/plain": [
       "NEGATIVO    42\n",
       "POSITIVO    37\n",
       "NEUTRO      21\n",
       "Name: GPT_4o, dtype: int64"
      ]
     },
     "execution_count": 21,
     "metadata": {},
     "output_type": "execute_result"
    }
   ],
   "source": [
    "GPT.GPT_4o.value_counts()"
   ]
  },
  {
   "cell_type": "code",
   "execution_count": 22,
   "id": "9ffb8fc9",
   "metadata": {},
   "outputs": [],
   "source": [
    "def modifica_label(x):\n",
    "    if x==\"NEGATIVO\":\n",
    "        return \"negative\"\n",
    "    if x==\"POSITIVO\":\n",
    "        return \"positive\"\n",
    "    if x==\"NEUTRO\":\n",
    "        return \"neutral\""
   ]
  },
  {
   "cell_type": "code",
   "execution_count": 23,
   "id": "54b472f5",
   "metadata": {},
   "outputs": [],
   "source": [
    "GPT[\"GPT_3p5\"]=GPT[\"GPT_3p5\"].apply(modifica_label)\n",
    "GPT[\"GPT_4o\"]=GPT[\"GPT_4o\"].apply(modifica_label)"
   ]
  },
  {
   "cell_type": "code",
   "execution_count": 24,
   "id": "0dfff9b0",
   "metadata": {},
   "outputs": [
    {
     "data": {
      "text/html": [
       "<div>\n",
       "<style scoped>\n",
       "    .dataframe tbody tr th:only-of-type {\n",
       "        vertical-align: middle;\n",
       "    }\n",
       "\n",
       "    .dataframe tbody tr th {\n",
       "        vertical-align: top;\n",
       "    }\n",
       "\n",
       "    .dataframe thead th {\n",
       "        text-align: right;\n",
       "    }\n",
       "</style>\n",
       "<table border=\"1\" class=\"dataframe\">\n",
       "  <thead>\n",
       "    <tr style=\"text-align: right;\">\n",
       "      <th></th>\n",
       "      <th>REAL</th>\n",
       "      <th>GPT_3p5</th>\n",
       "      <th>GPT_4o</th>\n",
       "    </tr>\n",
       "  </thead>\n",
       "  <tbody>\n",
       "    <tr>\n",
       "      <th>0</th>\n",
       "      <td>positive</td>\n",
       "      <td>positive</td>\n",
       "      <td>positive</td>\n",
       "    </tr>\n",
       "    <tr>\n",
       "      <th>1</th>\n",
       "      <td>negative</td>\n",
       "      <td>negative</td>\n",
       "      <td>negative</td>\n",
       "    </tr>\n",
       "    <tr>\n",
       "      <th>2</th>\n",
       "      <td>neutral</td>\n",
       "      <td>positive</td>\n",
       "      <td>neutral</td>\n",
       "    </tr>\n",
       "    <tr>\n",
       "      <th>3</th>\n",
       "      <td>negative</td>\n",
       "      <td>neutral</td>\n",
       "      <td>neutral</td>\n",
       "    </tr>\n",
       "    <tr>\n",
       "      <th>4</th>\n",
       "      <td>negative</td>\n",
       "      <td>negative</td>\n",
       "      <td>negative</td>\n",
       "    </tr>\n",
       "    <tr>\n",
       "      <th>...</th>\n",
       "      <td>...</td>\n",
       "      <td>...</td>\n",
       "      <td>...</td>\n",
       "    </tr>\n",
       "    <tr>\n",
       "      <th>95</th>\n",
       "      <td>negative</td>\n",
       "      <td>negative</td>\n",
       "      <td>negative</td>\n",
       "    </tr>\n",
       "    <tr>\n",
       "      <th>96</th>\n",
       "      <td>positive</td>\n",
       "      <td>positive</td>\n",
       "      <td>positive</td>\n",
       "    </tr>\n",
       "    <tr>\n",
       "      <th>97</th>\n",
       "      <td>positive</td>\n",
       "      <td>positive</td>\n",
       "      <td>positive</td>\n",
       "    </tr>\n",
       "    <tr>\n",
       "      <th>98</th>\n",
       "      <td>negative</td>\n",
       "      <td>neutral</td>\n",
       "      <td>negative</td>\n",
       "    </tr>\n",
       "    <tr>\n",
       "      <th>99</th>\n",
       "      <td>negative</td>\n",
       "      <td>negative</td>\n",
       "      <td>negative</td>\n",
       "    </tr>\n",
       "  </tbody>\n",
       "</table>\n",
       "<p>100 rows × 3 columns</p>\n",
       "</div>"
      ],
      "text/plain": [
       "        REAL   GPT_3p5    GPT_4o\n",
       "0   positive  positive  positive\n",
       "1   negative  negative  negative\n",
       "2    neutral  positive   neutral\n",
       "3   negative   neutral   neutral\n",
       "4   negative  negative  negative\n",
       "..       ...       ...       ...\n",
       "95  negative  negative  negative\n",
       "96  positive  positive  positive\n",
       "97  positive  positive  positive\n",
       "98  negative   neutral  negative\n",
       "99  negative  negative  negative\n",
       "\n",
       "[100 rows x 3 columns]"
      ]
     },
     "execution_count": 24,
     "metadata": {},
     "output_type": "execute_result"
    }
   ],
   "source": [
    "GPT"
   ]
  },
  {
   "cell_type": "code",
   "execution_count": 25,
   "id": "7ea24395",
   "metadata": {},
   "outputs": [
    {
     "name": "stdout",
     "output_type": "stream",
     "text": [
      "ACURACIA 0.86\n"
     ]
    }
   ],
   "source": [
    "acuracia_3p5=accuracy_score(GPT[\"REAL\"],GPT[\"GPT_3p5\"])\n",
    "print('ACURACIA',acuracia_3p5)"
   ]
  },
  {
   "cell_type": "code",
   "execution_count": 26,
   "id": "c3cc1f16",
   "metadata": {},
   "outputs": [
    {
     "name": "stdout",
     "output_type": "stream",
     "text": [
      "ACURACIA 0.91\n"
     ]
    }
   ],
   "source": [
    "acuracia_4o=accuracy_score(GPT[\"REAL\"],GPT[\"GPT_4o\"])\n",
    "print('ACURACIA',acuracia_4o)"
   ]
  },
  {
   "cell_type": "code",
   "execution_count": 27,
   "id": "89bb2a7d",
   "metadata": {},
   "outputs": [
    {
     "data": {
      "text/plain": [
       "Text(137.16666666666669, 0.5, 'real')"
      ]
     },
     "execution_count": 27,
     "metadata": {},
     "output_type": "execute_result"
    },
    {
     "data": {
      "image/png": "[encoded data removed]",
      "text/plain": [
       "<Figure size 1800x1200 with 2 Axes>"
      ]
     },
     "metadata": {
      "needs_background": "light"
     },
     "output_type": "display_data"
    }
   ],
   "source": [
    "plt.figure(dpi=300)\n",
    "plt.title('MATRIZ DE CONFUSÃO - GPT - 3.5',fontsize=10)\n",
    "sns.heatmap(confusion_matrix(GPT[\"REAL\"],GPT[\"GPT_3p5\"]),annot=True,cmap='inferno',lw=1,annot_kws={\"size\":10})\n",
    "plt.xticks([0.5,1.5,2.5],['negative','neutral','positive'],fontsize=5)\n",
    "plt.yticks([0.5,1.5,2.5],['negative','neutral','positive'],fontsize=5)\n",
    "plt.xlabel('predito',fontsize=20)\n",
    "plt.ylabel('real',fontsize=20)"
   ]
  },
  {
   "cell_type": "code",
   "execution_count": 28,
   "id": "540fd0f5",
   "metadata": {},
   "outputs": [
    {
     "data": {
      "text/plain": [
       "Text(137.16666666666669, 0.5, 'real')"
      ]
     },
     "execution_count": 28,
     "metadata": {},
     "output_type": "execute_result"
    },
    {
     "data": {
      "image/png": "[encoded data removed]",
      "text/plain": [
       "<Figure size 1800x1200 with 2 Axes>"
      ]
     },
     "metadata": {
      "needs_background": "light"
     },
     "output_type": "display_data"
    }
   ],
   "source": [
    "plt.figure(dpi=300)\n",
    "plt.title('MATRIZ DE CONFUSÃO - GPT - 4o',fontsize=10)\n",
    "sns.heatmap(confusion_matrix(GPT[\"REAL\"],GPT[\"GPT_4o\"]),annot=True,cmap='inferno',lw=1,annot_kws={\"size\":10})\n",
    "plt.xticks([0.5,1.5,2.5],['negative','neutral','positive'],fontsize=5)\n",
    "plt.yticks([0.5,1.5,2.5],['negative','neutral','positive'],fontsize=5)\n",
    "plt.xlabel('predito',fontsize=20)\n",
    "plt.ylabel('real',fontsize=20)"
   ]
  },
  {
   "cell_type": "code",
   "execution_count": null,
   "id": "c5d7e53c",
   "metadata": {},
   "outputs": [],
   "source": []
  }
 ],
 "metadata": {
  "hide_input": false,
  "kernelspec": {
   "display_name": "Python 3 (ipykernel)",
   "language": "python",
   "name": "python3"
  },
  "language_info": {
   "codemirror_mode": {
    "name": "ipython",
    "version": 3
   },
   "file_extension": ".py",
   "mimetype": "text/x-python",
   "name": "python",
   "nbconvert_exporter": "python",
   "pygments_lexer": "ipython3",
   "version": "3.10.18"
  },
  "toc": {
   "base_numbering": 1,
   "nav_menu": {},
   "number_sections": true,
   "sideBar": true,
   "skip_h1_title": false,
   "title_cell": "Table of Contents",
   "title_sidebar": "Contents",
   "toc_cell": false,
   "toc_position": {},
   "toc_section_display": true,
   "toc_window_display": false
  }
 },
 "nbformat": 4,
 "nbformat_minor": 5
}
